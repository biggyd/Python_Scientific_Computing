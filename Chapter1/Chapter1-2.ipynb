#Chapter 1.2 Data Type and Data Transformation
# using int(), str(), float() can change the data to the type desired.
pig3 = "2.85"
#Exercise 1.2 Search and describe the difference between float, integer and string variable.
# What is the data type of the variable 'pig3'? Write a line of code to convert it to float.

#Beware you cannot add a float or an integer directly after a string like:
# print("the number of pig is" + 3) <- you can try and see what error it creates...
# alternatively, you can do something such as
print("the number of pig is " + "3")
